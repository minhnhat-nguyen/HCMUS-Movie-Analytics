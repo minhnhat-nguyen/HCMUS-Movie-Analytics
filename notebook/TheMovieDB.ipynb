{
 "cells": [
  {
   "cell_type": "code",
   "execution_count": 4,
   "metadata": {},
   "outputs": [],
   "source": [
    "from dotenv import load_dotenv\n",
    "import os"
   ]
  },
  {
   "cell_type": "code",
   "execution_count": 5,
   "metadata": {},
   "outputs": [],
   "source": [
    "load_dotenv() \n",
    "THE_MOVIE_DB_API_KEY = os.getenv(\"THE_MOVIE_DB_API_KEY\")\n",
    "THE_MOVIE_DB_ACCESS_TOKEN = os.getenv(\"THE_MOVIE_DB_ACCESS_TOKEN\")\n",
    "THE_MOVIE_DB_BASE_URL = os.getenv(\"THE_MOVIE_DB_BASE_URL\")"
   ]
  }
 ],
 "metadata": {
  "kernelspec": {
   "display_name": "Python 3",
   "language": "python",
   "name": "python3"
  },
  "language_info": {
   "codemirror_mode": {
    "name": "ipython",
    "version": 3
   },
   "file_extension": ".py",
   "mimetype": "text/x-python",
   "name": "python",
   "nbconvert_exporter": "python",
   "pygments_lexer": "ipython3",
   "version": "3.12.7"
  }
 },
 "nbformat": 4,
 "nbformat_minor": 2
}
