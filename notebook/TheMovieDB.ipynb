{
 "cells": [
  {
   "cell_type": "code",
   "execution_count": null,
   "metadata": {},
   "outputs": [],
   "source": [
    "from dotenv import load_dotenv\n",
    "import requests\n",
    "import numpy as np\n",
    "import pandas as pd\n",
    "import os\n",
    "import time"
   ]
  },
  {
   "cell_type": "code",
   "execution_count": null,
   "metadata": {},
   "outputs": [],
   "source": [
    "load_dotenv() \n",
    "THE_MOVIE_DB_API_KEY = os.getenv(\"THE_MOVIE_DB_API_KEY\")\n",
    "THE_MOVIE_DB_ACCESS_TOKEN = os.getenv(\"THE_MOVIE_DB_ACCESS_TOKEN\")\n",
    "THE_MOVIE_DB_BASE_URL = os.getenv(\"THE_MOVIE_DB_BASE_URL\")"
   ]
  },
  {
   "cell_type": "code",
   "execution_count": 4,
   "metadata": {},
   "outputs": [],
   "source": [
    "headers = {\n",
    "    \"accept\": \"application/json\",\n",
    "    \"Authorization\": f\"Bearer {THE_MOVIE_DB_ACCESS_TOKEN}\"\n",
    "}"
   ]
  },
  {
   "cell_type": "code",
   "execution_count": 6,
   "metadata": {},
   "outputs": [],
   "source": [
    "#initial crawl\n",
    "def get_movies(num_pages: int, max_retries: int = 5) -> pd.DataFrame:\n",
    "\n",
    "    entries = []\n",
    "\n",
    "    url = THE_MOVIE_DB_BASE_URL + \"/discover/movie?include_adult=false&include_video=false&language=en-US&page={page}&sort_by=popularity.desc\" #type: ignore\n",
    "    for page in range(1, num_pages + 1):\n",
    "        for _ in range(max_retries):\n",
    "            response = requests.get(url.format(page=page), headers=headers)\n",
    "            if response.status_code == 200:\n",
    "                break\n",
    "            time.sleep(1)\n",
    "        else:\n",
    "            raise Exception(\"Failed to get data after maximum retries\")\n",
    "        \n",
    "        data = response.json()[\"results\"]\n",
    "\n",
    "        entries.extend(data)\n",
    "\n",
    "    return pd.DataFrame(entries)"
   ]
  },
  {
   "cell_type": "code",
   "execution_count": null,
   "metadata": {},
   "outputs": [],
   "source": [
    "raw_data = get_movies(30)"
   ]
  },
  {
   "cell_type": "code",
   "execution_count": 8,
   "metadata": {},
   "outputs": [],
   "source": [
    "raw_data.to_csv(\"raw_data.csv\", index=False)"
   ]
  }
 ],
 "metadata": {
  "kernelspec": {
   "display_name": "Python 3",
   "language": "python",
   "name": "python3"
  },
  "language_info": {
   "codemirror_mode": {
    "name": "ipython",
    "version": 3
   },
   "file_extension": ".py",
   "mimetype": "text/x-python",
   "name": "python",
   "nbconvert_exporter": "python",
   "pygments_lexer": "ipython3",
   "version": "3.12.7"
  }
 },
 "nbformat": 4,
 "nbformat_minor": 2
}
