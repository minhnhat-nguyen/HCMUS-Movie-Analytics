{
 "cells": [
  {
   "cell_type": "code",
   "execution_count": 2,
   "metadata": {},
   "outputs": [],
   "source": [
    "from dotenv import load_dotenv\n",
    "import requests\n",
    "import numpy as np\n",
    "import pandas as pd\n",
    "import os\n",
    "import re\n",
    "from bs4 import BeautifulSoup\n",
    "import time"
   ]
  },
  {
   "cell_type": "code",
   "execution_count": null,
   "metadata": {},
   "outputs": [],
   "source": [
    "load_dotenv() \n",
    "THE_MOVIE_DB_API_KEY = os.getenv(\"THE_MOVIE_DB_API_KEY\")\n",
    "THE_MOVIE_DB_ACCESS_TOKEN = os.getenv(\"THE_MOVIE_DB_ACCESS_TOKEN\")\n",
    "THE_MOVIE_DB_BASE_URL = os.getenv(\"THE_MOVIE_DB_BASE_URL\")\n",
    "\n",
    "THE_MOVIE_DB_CONVERTER_ID = 'https://api.themoviedb.org/3/movie/{id}/external_ids?api_key={key}'"
   ]
  },
  {
   "cell_type": "code",
   "execution_count": 4,
   "metadata": {},
   "outputs": [],
   "source": [
    "headers = {\n",
    "    \"accept\": \"application/json\",\n",
    "    \"Authorization\": f\"Bearer {THE_MOVIE_DB_ACCESS_TOKEN}\"\n",
    "}"
   ]
  },
  {
   "cell_type": "code",
   "execution_count": 6,
   "metadata": {},
   "outputs": [],
   "source": [
    "#initial crawl\n",
    "def get_movies(num_pages: int, max_retries: int = 5) -> pd.DataFrame:\n",
    "\n",
    "    entries = []\n",
    "\n",
    "    url = THE_MOVIE_DB_BASE_URL + \"/discover/movie?include_adult=false&include_video=false&language=en-US&page={page}&sort_by=popularity.desc\" #type: ignore\n",
    "    for page in range(1, num_pages + 1):\n",
    "        for _ in range(max_retries):\n",
    "            response = requests.get(url.format(page=page), headers=headers)\n",
    "            if response.status_code == 200:\n",
    "                break\n",
    "            time.sleep(1)\n",
    "        else:\n",
    "            raise Exception(\"Failed to get data after maximum retries\")\n",
    "        \n",
    "        data = response.json()[\"results\"]\n",
    "\n",
    "        entries.extend(data)\n",
    "\n",
    "    return pd.DataFrame(entries)"
   ]
  },
  {
   "cell_type": "code",
   "execution_count": null,
   "metadata": {},
   "outputs": [],
   "source": [
    "raw_data = get_movies(30)"
   ]
  },
  {
   "cell_type": "code",
   "execution_count": 8,
   "metadata": {},
   "outputs": [],
   "source": [
    "raw_data.to_csv(\"raw_data.csv\", index=False)"
   ]
  },
  {
   "cell_type": "code",
   "execution_count": null,
   "metadata": {},
   "outputs": [],
   "source": [
    "def parse_money(money_tag):\n",
    "    if money_tag is None:\n",
    "        return None\n",
    "    if hasattr(money_tag, 'text'):\n",
    "        money_tag = money_tag.text\n",
    "    return int(money_tag.replace('$', '').replace(',', ''))\n",
    "\n",
    "def parse_summary(summary_tag):\n",
    "    summary_dict = {}\n",
    "    for item in summary_tag:\n",
    "        contents = item.find_all('span')\n",
    "        key = contents[0].get_text(strip=True)\n",
    "        value = contents[1].contents[0].get_text(strip=True) if len(contents[1].contents) > 0 else None\n",
    "        summary_dict[key] = value\n",
    "    return summary_dict\n",
    "\n",
    "def parse_duration(duration_str):\n",
    "    if duration_str:\n",
    "        match = re.search(r'(\\d+)\\s*hr\\s*(\\d+)\\s*min', duration_str)\n",
    "        if match:\n",
    "            hours = int(match.group(1))\n",
    "            minutes = int(match.group(2))\n",
    "            total_minutes = hours * 60 + minutes\n",
    "            return total_minutes\n",
    "    return None\n",
    "\n",
    "def extract_release_date(release_date_str) -> pd.Timestamp | None:\n",
    "    if release_date_str and re.search(r'\\w+ \\d{1,2}, \\d{4}', release_date_str):\n",
    "        date_str = re.search(r'\\w+ \\d{1,2}, \\d{4}', release_date_str).group() #type: ignore\n",
    "        return pd.to_datetime(date_str)\n",
    "    return None\n",
    "\n",
    "gross_selector = '.a-section.a-spacing-none.mojo-performance-summary-table .a-section.a-spacing-none'\n",
    "summary_selector = '.a-section.a-spacing-none.mojo-summary-values.mojo-hidden-from-mobile .a-section.a-spacing-none'"
   ]
  },
  {
   "cell_type": "code",
   "execution_count": null,
   "metadata": {},
   "outputs": [],
   "source": [
    "def box_office_mojo_linker(themoviedbID: str, max_retries: int = 5) -> dict | None:\n",
    "    url = THE_MOVIE_DB_CONVERTER_ID.format(id=themoviedbID, key=THE_MOVIE_DB_API_KEY)\n",
    "    response = requests.get(url)\n",
    "    imdb_id = response.json().get('imdb_id')\n",
    "    if not imdb_id:\n",
    "        return None\n",
    "    imdb_url = f'https://www.boxofficemojo.com/title/{imdb_id}'\n",
    "    for _ in range(max_retries):\n",
    "        response = requests.get(imdb_url)\n",
    "        if response.status_code == 200:\n",
    "            break\n",
    "        time.sleep(1)\n",
    "    else :\n",
    "        return None\n",
    "\n",
    "    soup = BeautifulSoup(response.text, 'html.parser')\n",
    "    gross_tags = soup.select(gross_selector)\n",
    "    summary = parse_summary(soup.select(summary_selector))\n",
    "    domestic_gross, international_gross, worldwide_gross = [parse_money(i.select_one('.money')) for i in gross_tags] #type: ignore\n",
    "    release_date = extract_release_date(summary.get('Release Date') or summary.get('Earliest Release Date'))\n",
    "    duration_minutes = parse_duration(summary.get('Running Time'))\n",
    "    domestic_openening = parse_money(summary.get('Domestic Opening'))\n",
    "\n",
    "    return {\n",
    "        'id' : id,\n",
    "        'imdb_id': imdb_id,\n",
    "        'domestic_gross': domestic_gross,\n",
    "        'international_gross': international_gross,\n",
    "        'worldwide_gross': worldwide_gross,\n",
    "        'release_date': release_date,\n",
    "        'duration_minutes': duration_minutes,\n",
    "        'domestic_openening': domestic_openening\n",
    "    }\n"
   ]
  },
  {
   "cell_type": "code",
   "execution_count": null,
   "metadata": {},
   "outputs": [],
   "source": [
    "csv_file_path = \"raw_data.csv\"\n",
    "df = pd.read_csv(csv_file_path)\n",
    "\n",
    "def add_box_office_info(row):\n",
    "    themoviedb_id = row['id']\n",
    "    box_office_data = box_office_mojo_linker(themoviedb_id)\n",
    "\n",
    "    if box_office_data:\n",
    "        for key, value in box_office_data.items():\n",
    "            row[key] = value\n",
    "    return row\n",
    "\n",
    "df = df.apply(add_box_office_info, axis=1)\n",
    "\n",
    "df.to_csv(\"updated_file.csv\", index=False)\n",
    "\n",
    "print(\"CSV file updated successfully.\")"
   ]
  }
 ],
 "metadata": {
  "kernelspec": {
   "display_name": "Python 3",
   "language": "python",
   "name": "python3"
  },
  "language_info": {
   "codemirror_mode": {
    "name": "ipython",
    "version": 3
   },
   "file_extension": ".py",
   "mimetype": "text/x-python",
   "name": "python",
   "nbconvert_exporter": "python",
   "pygments_lexer": "ipython3",
   "version": "3.12.7"
  }
 },
 "nbformat": 4,
 "nbformat_minor": 2
}
